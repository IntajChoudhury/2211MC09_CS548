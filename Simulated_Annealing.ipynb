{
  "nbformat": 4,
  "nbformat_minor": 0,
  "metadata": {
    "colab": {
      "provenance": [],
      "gpuType": "T4"
    },
    "kernelspec": {
      "name": "python3",
      "display_name": "Python 3"
    },
    "language_info": {
      "name": "python"
    },
    "accelerator": "GPU"
  },
  "cells": [
    {
      "cell_type": "code",
      "execution_count": 1,
      "metadata": {
        "colab": {
          "base_uri": "https://localhost:8080/"
        },
        "id": "cpLO2BIYgOvx",
        "outputId": "79edc2ba-f589-454c-c577-6b85c7f3efcd"
      },
      "outputs": [
        {
          "output_type": "stream",
          "name": "stdout",
          "text": [
            "Mounted at /content/drive\n"
          ]
        }
      ],
      "source": [
        "from google.colab import drive\n",
        "drive.mount('/content/drive')\n"
      ]
    },
    {
      "cell_type": "code",
      "source": [
        "import numpy as np\n",
        "import pandas as pd\n",
        "from sklearn.model_selection import train_test_split\n",
        "from sklearn.ensemble import RandomForestClassifier\n",
        "from sklearn.metrics import accuracy_score\n",
        "import time\n",
        "\n",
        "# Load your dataset\n",
        "filename = \"NF-BOT-IOT\"\n",
        "train_data = pd.read_csv('/content/drive/MyDrive/dataset/NF-BOT-IOT_train_preprocessed.csv', sep=',', encoding='utf-8')\n",
        "test_data = pd.read_csv('/content/drive/MyDrive/dataset/NF-BOT-IOT_test_preprocessed.csv', sep=',', encoding='utf-8')\n",
        "\n",
        "# Prepare training data\n",
        "X_train = train_data.drop(columns=['label'], axis=1)\n",
        "y_train = train_data['label']\n",
        "\n",
        "# Prepare test data\n",
        "X_test = test_data.drop(columns=['label'], axis=1)\n",
        "y_test = test_data['label']\n",
        "\n",
        "# Split a small portion of training data for optimization (Simulated Annealing)\n",
        "X_t, _, y_t, _ = train_test_split(X_train, y_train, train_size=0.01, random_state=7)\n",
        "X_test_t, _, y_test_t, _ = train_test_split(X_test, y_test, train_size=0.01, random_state=7)\n",
        "\n",
        "# Define custom Simulated Annealing algorithm for feature selection\n",
        "class SimulatedAnnealing:\n",
        "    def __init__(self, max_iter=100, initial_temperature=100, cooling_rate=0.95):\n",
        "        self.max_iter = max_iter\n",
        "        self.initial_temperature = initial_temperature\n",
        "        self.cooling_rate = cooling_rate\n",
        "\n",
        "    def fit(self, X, y):\n",
        "        start_time = time.time()  # Start the timer\n",
        "        num_features = X.shape[1]\n",
        "        selected_features = np.random.choice([True, False], size=num_features)  # Randomly initialize feature selection\n",
        "        current_accuracy = self._evaluate(X, y, selected_features)\n",
        "        best_accuracy = current_accuracy\n",
        "        best_feature_set = selected_features.copy()\n",
        "        temperature = self.initial_temperature\n",
        "\n",
        "        for iteration in range(self.max_iter):\n",
        "            # Generate a new candidate solution by flipping a random feature\n",
        "            new_selected_features = selected_features.copy()\n",
        "            flip_idx = np.random.randint(num_features)\n",
        "            new_selected_features[flip_idx] = not new_selected_features[flip_idx]\n",
        "\n",
        "            # Evaluate the new candidate solution\n",
        "            new_accuracy = self._evaluate(X, y, new_selected_features)\n",
        "            delta_accuracy = new_accuracy - current_accuracy\n",
        "\n",
        "            # Accept the new solution under certain conditions\n",
        "            if delta_accuracy > 0 or np.random.uniform(0, 1) < np.exp(delta_accuracy / temperature):\n",
        "                selected_features = new_selected_features\n",
        "                current_accuracy = new_accuracy\n",
        "\n",
        "                # Update the best solution found so far\n",
        "                if current_accuracy > best_accuracy:\n",
        "                    best_accuracy = current_accuracy\n",
        "                    best_feature_set = selected_features.copy()\n",
        "\n",
        "            # Cool down the temperature\n",
        "            temperature *= self.cooling_rate\n",
        "\n",
        "        end_time = time.time()  # End the timer\n",
        "        execution_time = end_time - start_time  # Calculate execution time\n",
        "\n",
        "        self.selected_features = best_feature_set\n",
        "        self.execution_time = execution_time\n",
        "        self.num_selected_features = np.sum(best_feature_set)  # Number of selected features\n",
        "        return self\n",
        "\n",
        "    def _evaluate(self, X, y, selected_features):\n",
        "        clf = RandomForestClassifier()\n",
        "        X_subset = X.iloc[:, selected_features]\n",
        "        clf.fit(X_subset, y)\n",
        "        accuracy = accuracy_score(y, clf.predict(X_subset))\n",
        "        return accuracy\n",
        "\n",
        "# Instantiate and run the Simulated Annealing algorithm for feature selection on training data\n",
        "simulated_annealing = SimulatedAnnealing(max_iter=1000, initial_temperature=100, cooling_rate=0.95)\n",
        "simulated_annealing.fit(X_t, y_t)\n",
        "\n",
        "# Apply selected features to training data\n",
        "selected_features_train = X_train.columns[simulated_annealing.selected_features]\n",
        "\n",
        "# Print number of selected features and list them for the training data\n",
        "num_selected_features_train = simulated_annealing.num_selected_features\n",
        "print(\"Number of selected features (training data):\", num_selected_features_train)\n",
        "print(\"Selected Features (training data):\", selected_features_train.tolist())\n",
        "\n",
        "# Use selected features to filter columns in X_train\n",
        "X_train_selected = X_train[selected_features_train]\n",
        "\n",
        "# Output the dataframe with selected features for the training data\n",
        "print(\"DataFrame with selected features for training data:\")\n",
        "print(X_train_selected.head())\n",
        "\n",
        "# Apply selected features to test data\n",
        "selected_features_test = X_test.columns[simulated_annealing.selected_features]\n",
        "\n",
        "# Print number of selected features and list them for the test data\n",
        "num_selected_features_test = num_selected_features_train  # Same as training data for test data\n",
        "print(\"Number of selected features (test data):\", num_selected_features_test)\n",
        "print(\"Selected Features (test data):\", selected_features_test.tolist())\n",
        "\n",
        "# Use selected features to filter columns in X_test\n",
        "X_test_selected = X_test[selected_features_test]\n",
        "\n",
        "# Output the dataframe with selected features for the test data\n",
        "print(\"DataFrame with selected features for test data:\")\n",
        "print(X_test_selected.head())\n",
        "\n",
        "# Create a DataFrame for optimization results\n",
        "optimization_results = pd.DataFrame({\n",
        "    \"Optimization\": [\"SimulatedAnnealing\"],\n",
        "    \"Execution Time of Optimizer\": [simulated_annealing.execution_time],\n",
        "    \"No of Feature Selected\": [num_selected_features_train],\n",
        "    \"Selected Feature\": [', '.join(selected_features_train.tolist())]\n",
        "})\n",
        "\n",
        "# Save optimization results to a CSV file\n",
        "optimization_results.to_csv('NF-BOT-IOT_SimulatedAnnealing_feature.csv', index=False)\n"
      ],
      "metadata": {
        "colab": {
          "base_uri": "https://localhost:8080/"
        },
        "id": "VHFdWYr41rnY",
        "outputId": "3b95f367-2af7-4cd1-e5b5-d5fb105246b0"
      },
      "execution_count": 9,
      "outputs": [
        {
          "output_type": "stream",
          "name": "stdout",
          "text": [
            "Number of selected features (training data): 4\n",
            "Selected Features (training data): ['L4_SRC_PORT', 'L4_DST_PORT', 'OUT_BYTES', 'FLOW_DURATION_MILLISECONDS']\n",
            "DataFrame with selected features for training data:\n",
            "   L4_SRC_PORT  L4_DST_PORT  OUT_BYTES  FLOW_DURATION_MILLISECONDS\n",
            "0     0.165107    -0.331298  -0.007950                    0.495722\n",
            "1    -3.856688    -0.565481  -0.008504                    0.495841\n",
            "2     0.194481    -0.331298  -0.007950                    0.495720\n",
            "3     0.306015     2.671561  -0.008553                   -2.083921\n",
            "4     0.151803    -0.331298  -0.007950                    0.495721\n",
            "Number of selected features (test data): 4\n",
            "Selected Features (test data): ['L4_SRC_PORT', 'L4_DST_PORT', 'OUT_BYTES', 'FLOW_DURATION_MILLISECONDS']\n",
            "DataFrame with selected features for test data:\n",
            "   L4_SRC_PORT  L4_DST_PORT  OUT_BYTES  FLOW_DURATION_MILLISECONDS\n",
            "0    -1.114900    -0.559883  -0.008553                   -2.083921\n",
            "1     1.108007     0.110072  -0.008504                    0.495838\n",
            "2    -0.772350    -0.476342  -0.008504                    0.495840\n",
            "3     1.185416    -0.559883  -0.006928                    0.475220\n",
            "4     0.006402     1.059842  -0.008504                    0.495841\n"
          ]
        }
      ]
    }
  ]
}