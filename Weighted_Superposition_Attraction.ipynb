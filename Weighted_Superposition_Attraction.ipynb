{
  "nbformat": 4,
  "nbformat_minor": 0,
  "metadata": {
    "colab": {
      "provenance": []
    },
    "kernelspec": {
      "name": "python3",
      "display_name": "Python 3"
    },
    "language_info": {
      "name": "python"
    }
  },
  "cells": [
    {
      "cell_type": "code",
      "execution_count": 1,
      "metadata": {
        "colab": {
          "base_uri": "https://localhost:8080/"
        },
        "id": "POAlqbZyq7Gi",
        "outputId": "1a797cb5-a038-4770-ec79-3944252dca88"
      },
      "outputs": [
        {
          "output_type": "stream",
          "name": "stdout",
          "text": [
            "Mounted at /content/drive\n"
          ]
        }
      ],
      "source": [
        "from google.colab import drive\n",
        "drive.mount('/content/drive')\n"
      ]
    },
    {
      "cell_type": "code",
      "source": [
        "import numpy as np\n",
        "import pandas as pd\n",
        "from sklearn.model_selection import train_test_split\n",
        "from sklearn.ensemble import RandomForestClassifier\n",
        "from sklearn.metrics import accuracy_score\n",
        "import time\n",
        "\n",
        "# Load your dataset\n",
        "filename = \"NF-BOT-IOT\"\n",
        "train_data = pd.read_csv('/content/drive/MyDrive/dataset/NF-BOT-IOT_train_preprocessed.csv')\n",
        "test_data = pd.read_csv('/content/drive/MyDrive/dataset/NF-BOT-IOT_test_preprocessed.csv')\n",
        "\n",
        "# Prepare training data\n",
        "X_train = train_data.drop(columns=['label'], axis=1)\n",
        "y_train = train_data['label']\n",
        "\n",
        "# Prepare test data\n",
        "X_test = test_data.drop(columns=['label'], axis=1)\n",
        "y_test = test_data['label']\n",
        "\n",
        "# Define custom Weighted Superposition Attraction (WSA) algorithm for feature selection\n",
        "class WSAFeatureSelection:\n",
        "    def __init__(self, num_agents=2, max_iter=2):\n",
        "        self.num_agents = num_agents\n",
        "        self.max_iter = max_iter\n",
        "\n",
        "    def fit(self, X, y):\n",
        "        start_time = time.time()  # Start the timer\n",
        "        num_features = X.shape[1]\n",
        "        best_feature_set = None\n",
        "        best_accuracy = 0.0\n",
        "\n",
        "        for iteration in range(self.max_iter):\n",
        "            agent_solutions = []\n",
        "\n",
        "            for agent in range(self.num_agents):\n",
        "                # Initialize the agent's feature subset randomly or using some heuristic\n",
        "                selected_features = np.random.choice(num_features, size=np.random.randint(1, num_features), replace=False)\n",
        "\n",
        "                # Evaluate subset using a simple model (e.g., Random Forest)\n",
        "                clf = RandomForestClassifier()\n",
        "                X_subset = X.iloc[:, selected_features]\n",
        "                clf.fit(X_subset, y)\n",
        "                accuracy = accuracy_score(y, clf.predict(X_subset))\n",
        "\n",
        "                agent_solutions.append((selected_features, accuracy))\n",
        "\n",
        "                # Update best solution found\n",
        "                if accuracy > best_accuracy:\n",
        "                    best_accuracy = accuracy\n",
        "                    best_feature_set = selected_features\n",
        "\n",
        "            # Update feature subsets based on attractiveness (e.g., probability of selection)\n",
        "            # You need to implement this part\n",
        "\n",
        "        end_time = time.time()  # End the timer\n",
        "        execution_time = end_time - start_time  # Calculate execution time\n",
        "\n",
        "        self.selected_features = best_feature_set\n",
        "        self.execution_time = execution_time\n",
        "        self.num_selected_features = len(best_feature_set) if best_feature_set is not None else 0  # Number of selected features\n",
        "        return self\n",
        "\n",
        "\n",
        "# Instantiate and run the WSA algorithm for feature selection on training data\n",
        "wsa = WSAFeatureSelection(num_agents=5, max_iter=10)\n",
        "wsa.fit(X_train, y_train)\n",
        "\n",
        "# Apply selected features to training data\n",
        "selected_features_train = X_train.columns[wsa.selected_features]\n",
        "\n",
        "# Save selected features of the training data to a CSV file\n",
        "feature_name_train = filename + \"_WSA_feature_train.csv\"\n",
        "pd.Series(selected_features_train).to_csv(feature_name_train, index=False, header=True)\n",
        "\n",
        "# Create a DataFrame for optimization results\n",
        "optimization_results = pd.DataFrame({\n",
        "    \"Optimization\": [\"WSA\"],\n",
        "    \"Execution Time of Optimizer\": [wsa.execution_time],\n",
        "    \"No of Feature Selected\": [wsa.num_selected_features],\n",
        "    \"Selected Feature\": [', '.join(selected_features_train.tolist())]\n",
        "})\n",
        "\n",
        "# Save optimization results to a CSV file\n",
        "optimization_results.to_csv('NF-BOT-IOT_WSA_feature.csv', index=False)\n",
        "\n"
      ],
      "metadata": {
        "id": "xExr_qzfzfrn"
      },
      "execution_count": 16,
      "outputs": []
    }
  ]
}