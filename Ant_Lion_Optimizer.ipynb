{
  "nbformat": 4,
  "nbformat_minor": 0,
  "metadata": {
    "colab": {
      "provenance": []
    },
    "kernelspec": {
      "name": "python3",
      "display_name": "Python 3"
    },
    "language_info": {
      "name": "python"
    }
  },
  "cells": [
    {
      "cell_type": "code",
      "execution_count": 1,
      "metadata": {
        "colab": {
          "base_uri": "https://localhost:8080/"
        },
        "id": "POAlqbZyq7Gi",
        "outputId": "1a797cb5-a038-4770-ec79-3944252dca88"
      },
      "outputs": [
        {
          "output_type": "stream",
          "name": "stdout",
          "text": [
            "Mounted at /content/drive\n"
          ]
        }
      ],
      "source": [
        "from google.colab import drive\n",
        "drive.mount('/content/drive')\n"
      ]
    },
    {
      "cell_type": "code",
      "source": [
        "import numpy as np\n",
        "import pandas as pd\n",
        "from sklearn.model_selection import train_test_split\n",
        "from sklearn.ensemble import RandomForestClassifier\n",
        "from sklearn.metrics import accuracy_score\n",
        "import time\n",
        "\n",
        "# Load your dataset\n",
        "filename = \"NF-BOT-IOT\"\n",
        "train_data = pd.read_csv('/content/drive/MyDrive/dataset/NF-BOT-IOT_train_preprocessed.csv', sep=',', encoding='utf-8')\n",
        "test_data = pd.read_csv('/content/drive/MyDrive/dataset/NF-BOT-IOT_test_preprocessed.csv', sep=',', encoding='utf-8')\n",
        "\n",
        "# Prepare training data\n",
        "X_train = train_data.drop(columns=['label'], axis=1)\n",
        "y_train = train_data['label']\n",
        "\n",
        "# Prepare test data\n",
        "X_test = test_data.drop(columns=['label'], axis=1)\n",
        "y_test = test_data['label']\n",
        "\n",
        "# Split a small portion of training and test data for optimization (ALO)\n",
        "X_t, _, y_t, _ = train_test_split(X_train, y_train, train_size=0.01, random_state=7)\n",
        "X_test_t, _, y_test_t, _ = train_test_split(X_test, y_test, train_size=0.01, random_state=7)\n",
        "\n",
        "# Define custom Ant Lion Optimizer (ALO) algorithm for feature selection\n",
        "class ALOFeatureSelection:\n",
        "    def __init__(self, num_lions=5, max_iter=10):\n",
        "        self.num_lions = num_lions\n",
        "        self.max_iter = max_iter\n",
        "\n",
        "    def fit(self, X, y):\n",
        "        start_time = time.time()  # Start timer\n",
        "        num_features = X.shape[1]\n",
        "        x_solutions = np.random.randint(0, 2, size=(self.num_lions, num_features))  # Initialize with binary values\n",
        "        best_feature_set = None\n",
        "        best_accuracy = 0.0\n",
        "\n",
        "        for iteration in range(self.max_iter):\n",
        "            fitness_values = []\n",
        "\n",
        "            for solution in x_solutions:\n",
        "                selected_features = np.where(solution > 0)[0]  # Select features where value > 0\n",
        "\n",
        "                # Evaluate subset using a simple model (e.g., Random Forest)\n",
        "                clf = RandomForestClassifier()\n",
        "                X_subset = X.iloc[:, selected_features]\n",
        "                clf.fit(X_subset, y)\n",
        "                accuracy = accuracy_score(y, clf.predict(X_subset))\n",
        "\n",
        "                fitness_values.append((selected_features, accuracy))\n",
        "\n",
        "                # Update best solution found\n",
        "                if accuracy > best_accuracy:\n",
        "                    best_accuracy = accuracy\n",
        "                    best_feature_set = selected_features\n",
        "\n",
        "            # Update solutions based on fitness values\n",
        "            sorted_indices = np.argsort([fitness[1] for fitness in fitness_values])[::-1]\n",
        "            x_solutions = np.array([x_solutions[idx] for idx in sorted_indices])\n",
        "\n",
        "        end_time = time.time()  # End timer\n",
        "        execution_time = end_time - start_time  # Calculate execution time\n",
        "\n",
        "        self.selected_features = best_feature_set\n",
        "        self.execution_time = execution_time\n",
        "        self.num_selected_features = len(best_feature_set)\n",
        "        return self\n",
        "\n",
        "# Instantiate and run the ALO algorithm for feature selection on training data\n",
        "alo = ALOFeatureSelection(num_lions=5, max_iter=10)\n",
        "alo.fit(X_t, y_t)\n",
        "\n",
        "# Apply selected features to training data\n",
        "selected_features_train = X_train.columns[alo.selected_features]\n",
        "\n",
        "# Create a DataFrame for optimization results\n",
        "optimization_results = pd.DataFrame({\n",
        "    \"Optimization\": [\"ALO\"],\n",
        "    \"Execution Time of Optimizer\": [alo.execution_time],\n",
        "    \"No of Feature Selected\": [alo.num_selected_features],\n",
        "    \"Selected Feature\": [', '.join(selected_features_train.tolist())]\n",
        "})\n",
        "\n",
        "# Save optimization results to a CSV file\n",
        "optimization_results.to_csv('optimization_results.csv', index=False)\n"
      ],
      "metadata": {
        "id": "xtxGYbLarTU2"
      },
      "execution_count": 5,
      "outputs": []
    }
  ]
}