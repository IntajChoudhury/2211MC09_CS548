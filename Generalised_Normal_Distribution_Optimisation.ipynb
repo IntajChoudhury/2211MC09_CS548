{
  "nbformat": 4,
  "nbformat_minor": 0,
  "metadata": {
    "colab": {
      "provenance": []
    },
    "kernelspec": {
      "name": "python3",
      "display_name": "Python 3"
    },
    "language_info": {
      "name": "python"
    }
  },
  "cells": [
    {
      "cell_type": "code",
      "execution_count": 1,
      "metadata": {
        "colab": {
          "base_uri": "https://localhost:8080/"
        },
        "id": "UpDOpDz3xClq",
        "outputId": "f737c171-4b85-494f-a32d-d8febd238441"
      },
      "outputs": [
        {
          "output_type": "stream",
          "name": "stdout",
          "text": [
            "Drive already mounted at /content/drive; to attempt to forcibly remount, call drive.mount(\"/content/drive\", force_remount=True).\n"
          ]
        }
      ],
      "source": [
        "from google.colab import drive\n",
        "drive.mount('/content/drive')\n"
      ]
    },
    {
      "cell_type": "code",
      "source": [
        "import numpy as np\n",
        "import pandas as pd\n",
        "from sklearn.model_selection import train_test_split\n",
        "from sklearn.ensemble import RandomForestClassifier\n",
        "from sklearn.metrics import accuracy_score\n",
        "import time\n",
        "\n",
        "# Load your dataset\n",
        "filename = \"NF-BOT-IOT\"\n",
        "train_data = pd.read_csv('/content/drive/MyDrive/dataset_wireless/NF-BOT-IOT_train_preprocessed.csv', sep=',', encoding='utf-8')\n",
        "test_data = pd.read_csv('/content/drive/MyDrive/dataset_wireless/NF-BOT-IOT_test_preprocessed.csv', sep=',', encoding='utf-8')\n",
        "\n",
        "# Prepare training data\n",
        "X_train = train_data.drop(columns=['label'], axis=1)\n",
        "y_train = train_data['label']\n",
        "\n",
        "# Prepare test data\n",
        "X_test = test_data.drop(columns=['label'], axis=1)\n",
        "y_test = test_data['label']\n",
        "\n",
        "# Split a small portion of training and test data for optimization (GNDOA)\n",
        "X_t, _, y_t, _ = train_test_split(X_train, y_train, train_size=0.01, random_state=7)\n",
        "X_test_t, _, y_test_t, _ = train_test_split(X_test, y_test, train_size=0.01, random_state=7)\n",
        "\n",
        "# Define custom Generalized Normal Distribution Optimization Algorithm (GNDOA) for feature selection\n",
        "class GNDOAFeatureSelection:\n",
        "    def __init__(self, num_iterations=10, num_samples=5):\n",
        "        self.num_iterations = num_iterations\n",
        "        self.num_samples = num_samples\n",
        "\n",
        "    def fit(self, X, y):\n",
        "        start_time = time.time()  # Start timer\n",
        "        num_features = X.shape[1]\n",
        "        gndo_values = np.random.normal(size=(self.num_samples, num_features))  # Initialize with normal distribution\n",
        "        best_feature_set = None\n",
        "        best_accuracy = 0.0\n",
        "\n",
        "        for iteration in range(self.num_iterations):\n",
        "            fitness_values = []\n",
        "\n",
        "            for gndo_value in gndo_values:\n",
        "                threshold = np.percentile(gndo_value, 50)  # Threshold to select features\n",
        "                selected_features = np.where(gndo_value > threshold)[0]\n",
        "\n",
        "                # Evaluate subset using a simple model (e.g., Random Forest)\n",
        "                clf = RandomForestClassifier()\n",
        "                X_subset = X.iloc[:, selected_features]\n",
        "                clf.fit(X_subset, y)\n",
        "                accuracy = accuracy_score(y, clf.predict(X_subset))\n",
        "\n",
        "                fitness_values.append((selected_features, accuracy))\n",
        "\n",
        "                # Update best solution found\n",
        "                if accuracy > best_accuracy:\n",
        "                    best_accuracy = accuracy\n",
        "                    best_feature_set = selected_features\n",
        "\n",
        "            # Update GNDO values based on fitness values\n",
        "            sorted_indices = np.argsort([fitness[1] for fitness in fitness_values])[::-1]\n",
        "            gndo_values = np.array([gndo_values[idx] for idx in sorted_indices])\n",
        "\n",
        "        end_time = time.time()  # End timer\n",
        "        execution_time = end_time - start_time  # Calculate execution time\n",
        "\n",
        "        self.selected_features = best_feature_set\n",
        "        self.execution_time = execution_time\n",
        "        self.num_selected_features = len(best_feature_set)\n",
        "        return self\n",
        "\n",
        "# Instantiate and run the GNDOA algorithm for feature selection on training data\n",
        "gndoa = GNDOAFeatureSelection(num_iterations=10, num_samples=5)\n",
        "gndoa.fit(X_t, y_t)\n",
        "\n",
        "# Apply selected features to training data\n",
        "selected_features_train = X_train.columns[gndoa.selected_features]\n",
        "\n",
        "# Create a DataFrame for optimization results\n",
        "optimization_results = pd.DataFrame({\n",
        "    \"Optimization\": [\"GNDOA\"],\n",
        "    \"Execution Time of Optimizer\": [gndoa.execution_time],\n",
        "    \"No of Feature Selected\": [gndoa.num_selected_features],\n",
        "    \"Selected Feature\": [', '.join(selected_features_train.tolist())]\n",
        "})\n",
        "\n",
        "# Save optimization results to a CSV file\n",
        "optimization_results.to_csv('Generalised_optimization_results.csv', index=False)\n"
      ],
      "metadata": {
        "id": "sO8xBI-2xjtE"
      },
      "execution_count": 2,
      "outputs": []
    }
  ]
}