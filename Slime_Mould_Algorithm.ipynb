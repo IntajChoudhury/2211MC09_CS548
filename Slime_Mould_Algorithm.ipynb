{
  "nbformat": 4,
  "nbformat_minor": 0,
  "metadata": {
    "colab": {
      "provenance": []
    },
    "kernelspec": {
      "name": "python3",
      "display_name": "Python 3"
    },
    "language_info": {
      "name": "python"
    }
  },
  "cells": [
    {
      "cell_type": "code",
      "source": [
        "from google.colab import drive\n",
        "drive.mount('/content/drive')\n"
      ],
      "metadata": {
        "colab": {
          "base_uri": "https://localhost:8080/"
        },
        "id": "qLIFSft11Ttb",
        "outputId": "37ac60c9-a37f-4c39-aa4f-560cfafabf0d"
      },
      "execution_count": 1,
      "outputs": [
        {
          "output_type": "stream",
          "name": "stdout",
          "text": [
            "Mounted at /content/drive\n"
          ]
        }
      ]
    },
    {
      "cell_type": "code",
      "execution_count": 4,
      "metadata": {
        "colab": {
          "base_uri": "https://localhost:8080/"
        },
        "id": "YuKP0JgE1ROx",
        "outputId": "367b0edc-d90a-4433-9311-8f0fd1677a1b"
      },
      "outputs": [
        {
          "output_type": "stream",
          "name": "stdout",
          "text": [
            "Number of selected features: 5\n",
            "Selected features: ['L4_SRC_PORT', 'L4_DST_PORT', 'L7_PROTO', 'IN_PKTS', 'FLOW_DURATION_MILLISECONDS']\n"
          ]
        }
      ],
      "source": [
        "import numpy as np\n",
        "import pandas as pd\n",
        "from sklearn.model_selection import train_test_split\n",
        "from sklearn.metrics import accuracy_score\n",
        "import time\n",
        "\n",
        "# Load your dataset\n",
        "filename = \"NF-BOT-IOT\"\n",
        "train_data = pd.read_csv('/content/drive/MyDrive/CS548 Wireless Project/NF-BOT-IOT_train_preprocessed.csv', sep=',', encoding='utf-8')\n",
        "test_data = pd.read_csv('/content/drive/MyDrive/CS548 Wireless Project/NF-BOT-IOT_train_preprocessed.csv', sep=',', encoding='utf-8')\n",
        "\n",
        "X_train = train_data.drop(columns=['label'], axis=1)\n",
        "y_train = train_data['label']\n",
        "X_test = test_data.drop(columns=['label'], axis=1)\n",
        "y_test = test_data['label']\n",
        "\n",
        "class SlimeMouldFeatureSelection:\n",
        "    def __init__(self, num_slime=5, max_iter=10, diffusion_rate=0.1):\n",
        "        self.num_slime = num_slime\n",
        "        self.max_iter = max_iter\n",
        "        self.diffusion_rate = diffusion_rate\n",
        "\n",
        "    def fit(self, X, y):\n",
        "        start_time = time.time()  # Start timing the algorithm\n",
        "        num_features = X.shape[1]\n",
        "        best_feature_set = None\n",
        "        best_accuracy = 0.0\n",
        "\n",
        "        for iteration in range(self.max_iter):\n",
        "            # Initialize slime positions\n",
        "            slime_positions = np.random.randint(0, 2, size=(self.num_slime, num_features), dtype=bool)\n",
        "\n",
        "            # Evaluate fitness of each slime\n",
        "            fitness_values = np.zeros(self.num_slime)\n",
        "            for i in range(self.num_slime):\n",
        "                selected_features = np.where(slime_positions[i])[0]\n",
        "                if len(selected_features) == 0:\n",
        "                    continue  # Skip if no features are selected\n",
        "                # Here you can replace this with your trained model and evaluation\n",
        "                # For example, you can use KNN or RandomForestClassifier\n",
        "                # clf = RandomForestClassifier()\n",
        "                # X_subset = X.iloc[:, selected_features]\n",
        "                # clf.fit(X_subset, y)\n",
        "                # accuracy = accuracy_score(y, clf.predict(X_subset))\n",
        "                accuracy = np.random.rand()  # Placeholder for demonstration\n",
        "                fitness_values[i] = accuracy\n",
        "\n",
        "                # Update best solution found\n",
        "                if accuracy > best_accuracy:\n",
        "                    best_accuracy = accuracy\n",
        "                    best_feature_set = selected_features\n",
        "\n",
        "            # Slime mould diffusion\n",
        "            # Here you can implement the diffusion operation\n",
        "\n",
        "        end_time = time.time()  # End timing the algorithm\n",
        "        self.exec_time = end_time - start_time  # Calculate execution time\n",
        "        self.selected_features = best_feature_set\n",
        "        return self\n",
        "\n",
        "# Instantiate and run the Slime Mould Algorithm for feature selection\n",
        "slime_mould = SlimeMouldFeatureSelection(num_slime=5, max_iter=10, diffusion_rate=0.1)\n",
        "slime_mould.fit(X_train, y_train)\n",
        "\n",
        "# Apply selected features to training data\n",
        "selected_feature_indices = slime_mould.selected_features\n",
        "selected_features = X_train.columns[selected_feature_indices]\n",
        "num_selected_features = len(selected_features)\n",
        "\n",
        "# Save selected features to a CSV file\n",
        "feature_name = filename + \"_SlimeMould_features.csv\"\n",
        "optimizer_name = \"SlimeMould\"\n",
        "execution_time = slime_mould.exec_time\n",
        "\n",
        "# Write CSV file with optimizer name, execution time, number of selected features, and their names\n",
        "with open(feature_name, 'w') as file:\n",
        "    file.write(f\"optimizer,execution time,num of selected features,selected features\\n\")\n",
        "    file.write(f\"{optimizer_name},{execution_time},{num_selected_features},\\\"\")\n",
        "    file.write(\",\".join(selected_features))\n",
        "    file.write(\"\\\"\\n\")\n",
        "\n",
        "# Print number of selected features and their names\n",
        "print(\"Number of selected features:\", num_selected_features)\n",
        "print(\"Selected features:\", selected_features.tolist())\n",
        "\n",
        "# Filter both training and testing data with selected features\n",
        "X_train_selected = X_train[selected_features]\n",
        "X_test_selected = X_test[selected_features]"
      ]
    }
  ]
}