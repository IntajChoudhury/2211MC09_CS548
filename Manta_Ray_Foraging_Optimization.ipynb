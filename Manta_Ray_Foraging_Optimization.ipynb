{
  "nbformat": 4,
  "nbformat_minor": 0,
  "metadata": {
    "colab": {
      "provenance": []
    },
    "kernelspec": {
      "name": "python3",
      "display_name": "Python 3"
    },
    "language_info": {
      "name": "python"
    }
  },
  "cells": [
    {
      "cell_type": "code",
      "source": [
        "from google.colab import drive\n",
        "drive.mount('/content/drive')\n",
        "\n"
      ],
      "metadata": {
        "id": "XXR0MnN0YLw_",
        "colab": {
          "base_uri": "https://localhost:8080/"
        },
        "outputId": "dfd7bb53-2b2f-451b-987f-07e45cfdb8de"
      },
      "execution_count": 1,
      "outputs": [
        {
          "output_type": "stream",
          "name": "stdout",
          "text": [
            "Mounted at /content/drive\n"
          ]
        }
      ]
    },
    {
      "cell_type": "code",
      "source": [
        "import numpy as np\n",
        "import pandas as pd\n",
        "from sklearn.ensemble import RandomForestClassifier\n",
        "from sklearn.metrics import accuracy_score\n",
        "\n",
        "class MRFOFeatureSelection:\n",
        "    def __init__(self, num_mantas=5, max_iter=2, num_carry_outs=2, num_exploration=3):\n",
        "        self.num_mantas = num_mantas\n",
        "        self.max_iter = max_iter\n",
        "        self.num_carry_outs = num_carry_outs\n",
        "        self.num_exploration = num_exploration\n",
        "\n",
        "    def _explore_features(self, selected_features, num_features):\n",
        "        num_selected_features = len(selected_features)\n",
        "        change_indices = np.random.choice(num_selected_features, min(self.num_exploration, num_selected_features), replace=False)\n",
        "        new_features = selected_features.copy()\n",
        "        new_features[change_indices] = ~new_features[change_indices]\n",
        "        return new_features\n",
        "\n",
        "    def fit(self, X, y):\n",
        "        num_features = X.shape[1]\n",
        "        best_feature_set = None\n",
        "        best_accuracy = 0.0\n",
        "\n",
        "        for _ in range(self.max_iter):\n",
        "            manta_solutions = []\n",
        "\n",
        "            for _ in range(self.num_mantas):\n",
        "                # Generate a random feature subset\n",
        "                feature_mask = np.random.randint(2, size=num_features, dtype=bool)\n",
        "                selected_features = np.where(feature_mask)[0]\n",
        "\n",
        "                # Evaluate subset using a simple model (e.g., Random Forest)\n",
        "                clf = RandomForestClassifier()\n",
        "                X_subset = X.iloc[:, selected_features]\n",
        "                clf.fit(X_subset, y)\n",
        "                accuracy = accuracy_score(y, clf.predict(X_subset))\n",
        "\n",
        "                manta_solutions.append((selected_features, accuracy))\n",
        "\n",
        "                # Update best solution found\n",
        "                if accuracy > best_accuracy:\n",
        "                    best_accuracy = accuracy\n",
        "                    best_feature_set = selected_features\n",
        "\n",
        "            # Carry-out and exploration behavior\n",
        "            for _ in range(self.num_carry_outs):\n",
        "                selected_manta = np.random.choice(self.num_mantas)\n",
        "                selected_features = manta_solutions[selected_manta][0]\n",
        "                new_features = self._explore_features(selected_features, num_features)\n",
        "                X_subset = X.iloc[:, new_features]\n",
        "                clf.fit(X_subset, y)\n",
        "                accuracy = accuracy_score(y, clf.predict(X_subset))\n",
        "\n",
        "                if accuracy > manta_solutions[selected_manta][1]:\n",
        "                    manta_solutions[selected_manta] = (new_features, accuracy)\n",
        "\n",
        "        self.selected_features = best_feature_set\n",
        "        return self\n",
        "\n",
        "# Load your dataset\n",
        "filename = \"NF-BOT-IOT\"\n",
        "train_data = pd.read_csv('/content/drive/MyDrive/Wireless dataset/NF-BOT-IOT_train_preprocessed.csv', sep=',', encoding='utf-8')\n",
        "\n",
        "X_train = train_data.drop(columns=['label'], axis=1)\n",
        "y_train = train_data['label']\n",
        "\n",
        "# Instantiate and run the MRFO algorithm for feature selection\n",
        "mrfo = MRFOFeatureSelection(num_mantas=5, max_iter=2, num_carry_outs=2, num_exploration=3)\n",
        "mrfo.fit(X_train, y_train)\n",
        "\n",
        "selected_feature_indices = mrfo.selected_features\n",
        "selected_features = X_train.columns[selected_feature_indices]\n",
        "\n",
        "# Print number of selected features and list them\n",
        "num_selected_features = len(selected_features)\n",
        "print(\"Number of selected features:\", num_selected_features)\n",
        "print(\"Selected Features:\", selected_features.tolist())  # Convert Index to list for easier viewing\n"
      ],
      "metadata": {
        "colab": {
          "base_uri": "https://localhost:8080/"
        },
        "id": "NYxxX2CL7zQi",
        "outputId": "91b8a2c7-72f0-4ca9-9405-3f6b3aafa713"
      },
      "execution_count": 17,
      "outputs": [
        {
          "output_type": "stream",
          "name": "stdout",
          "text": [
            "Number of selected features: 3\n",
            "Selected Features: ['L4_SRC_PORT', 'L4_DST_PORT', 'IN_BYTES']\n"
          ]
        }
      ]
    }
  ]
}