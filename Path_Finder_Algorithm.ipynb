{
  "nbformat": 4,
  "nbformat_minor": 0,
  "metadata": {
    "colab": {
      "provenance": []
    },
    "kernelspec": {
      "name": "python3",
      "display_name": "Python 3"
    },
    "language_info": {
      "name": "python"
    }
  },
  "cells": [
    {
      "cell_type": "code",
      "execution_count": 7,
      "metadata": {
        "colab": {
          "base_uri": "https://localhost:8080/"
        },
        "id": "M4o0iLagsTKb",
        "outputId": "b5474db8-8581-4656-89b3-cfa25277765d"
      },
      "outputs": [
        {
          "output_type": "stream",
          "name": "stdout",
          "text": [
            "Number of selected features: 6\n",
            "Selected features: ['L4_SRC_PORT', 'L4_DST_PORT', 'PROTOCOL', 'L7_PROTO', 'IN_PKTS', 'TCP_FLAGS']\n"
          ]
        }
      ],
      "source": [
        "import numpy as np\n",
        "import pandas as pd\n",
        "from sklearn.metrics import accuracy_score\n",
        "from sklearn.linear_model import LogisticRegression\n",
        "import time\n",
        "\n",
        "# Load your dataset\n",
        "filename = \"NF-BOT-IOT\"\n",
        "train_data = pd.read_csv('/content/drive/MyDrive/CS548 Wireless Project/NF-BOT-IOT_train_preprocessed.csv', sep=',', encoding='utf-8')\n",
        "test_data = pd.read_csv('/content/drive/MyDrive/CS548 Wireless Project/NF-BOT-IOT_test_preprocessed.csv', sep=',', encoding='utf-8')\n",
        "\n",
        "X_train = train_data.drop(columns=['label'], axis=1)\n",
        "y_train = train_data['label']\n",
        "X_test = test_data.drop(columns=['label'], axis=1)\n",
        "y_test = test_data['label']\n",
        "\n",
        "# Define custom Pathfinder algorithm for feature selection\n",
        "class PathfinderAlgorithm:\n",
        "    def __init__(self, num_pathfinders=10, max_iter=5):\n",
        "        self.num_pathfinders = num_pathfinders\n",
        "        self.max_iter = max_iter\n",
        "\n",
        "    def fit(self, X, y):\n",
        "        start_time = time.time()  # Start timing the algorithm\n",
        "        num_features = X.shape[1]\n",
        "        best_feature_set = None\n",
        "        best_accuracy = 0.0\n",
        "\n",
        "        # Initialize random positions of pathfinders\n",
        "        positions = np.random.randint(0, 2, size=(self.num_pathfinders, num_features), dtype=bool)\n",
        "\n",
        "        for iteration in range(self.max_iter):\n",
        "            # Evaluate the fitness of each pathfinder's solution\n",
        "            fitness_values = np.zeros(self.num_pathfinders)\n",
        "            for i in range(self.num_pathfinders):\n",
        "                selected_features = np.where(positions[i])[0]\n",
        "                if len(selected_features) == 0:\n",
        "                    continue  # Skip if no features are selected\n",
        "                clf = LogisticRegression(solver='liblinear')\n",
        "                X_subset = X.iloc[:, selected_features]\n",
        "                clf.fit(X_subset, y)\n",
        "                accuracy = accuracy_score(y, clf.predict(X_subset))\n",
        "                fitness_values[i] = accuracy\n",
        "\n",
        "                # Update best solution found\n",
        "                if accuracy > best_accuracy:\n",
        "                    best_accuracy = accuracy\n",
        "                    best_feature_set = selected_features\n",
        "\n",
        "            # Update positions of pathfinders based on fitness\n",
        "            sorted_indices = np.argsort(fitness_values)[::-1]\n",
        "            for i in range(self.num_pathfinders):\n",
        "                if i < self.num_pathfinders // 2:\n",
        "                    positions[i] = positions[sorted_indices[i]]\n",
        "                else:\n",
        "                    positions[i] = np.random.randint(0, 2, size=num_features, dtype=bool)\n",
        "\n",
        "        end_time = time.time()  # End timing the algorithm\n",
        "        self.exec_time = end_time - start_time  # Calculate execution time\n",
        "        self.selected_features = best_feature_set\n",
        "        return self\n",
        "\n",
        "# Instantiate and run the Pathfinder Algorithm for feature selection\n",
        "pathfinder = PathfinderAlgorithm()\n",
        "pathfinder.fit(X_train, y_train)\n",
        "\n",
        "# Apply selected features to training data\n",
        "selected_feature_indices = pathfinder.selected_features\n",
        "selected_features = X_train.columns[selected_feature_indices]\n",
        "num_selected_features = len(selected_features)\n",
        "\n",
        "# Save selected features to a CSV file\n",
        "feature_name = filename + \"_Pathfinder_features.csv\"\n",
        "optimizer_name = \"Pathfinder Algorithm\"\n",
        "execution_time = pathfinder.exec_time\n",
        "\n",
        "# Write CSV file with optimizer name, execution time, number of selected features, and their names\n",
        "with open(feature_name, 'w') as file:\n",
        "    file.write(f\"optimizer,execution time,num of selected features,selected features\\n\")\n",
        "    file.write(f\"{optimizer_name},{execution_time},{num_selected_features},\\\"\")\n",
        "    file.write(\",\".join(selected_features))\n",
        "    file.write(\"\\\"\\n\")\n",
        "\n",
        "# Print number of selected features and their names\n",
        "print(\"Number of selected features:\", num_selected_features)\n",
        "print(\"Selected features:\", selected_features.tolist())\n",
        "\n",
        "# Filter both training and testing data with selected features\n",
        "X_train_selected = X_train[selected_features]\n",
        "X_test_selected = X_test[selected_features]\n"
      ]
    }
  ]
}