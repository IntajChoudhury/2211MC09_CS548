{
  "nbformat": 4,
  "nbformat_minor": 0,
  "metadata": {
    "colab": {
      "provenance": []
    },
    "kernelspec": {
      "name": "python3",
      "display_name": "Python 3"
    },
    "language_info": {
      "name": "python"
    }
  },
  "cells": [
    {
      "cell_type": "code",
      "execution_count": 6,
      "metadata": {
        "colab": {
          "base_uri": "https://localhost:8080/"
        },
        "id": "M4o0iLagsTKb",
        "outputId": "abb34753-f855-453b-9129-c098ad9a619a"
      },
      "outputs": [
        {
          "output_type": "stream",
          "name": "stdout",
          "text": [
            "Number of selected features: 1\n",
            "Selected feature: IN_BYTES\n"
          ]
        }
      ],
      "source": [
        "import numpy as np\n",
        "import pandas as pd\n",
        "from sklearn.model_selection import train_test_split\n",
        "from sklearn.neighbors import KNeighborsClassifier\n",
        "from sklearn.metrics import accuracy_score\n",
        "import time\n",
        "\n",
        "# Load your dataset\n",
        "filename = \"NF-BOT-IOT\"\n",
        "train_data = pd.read_csv('/content/drive/MyDrive/CS548 Wireless Project/NF-BOT-IOT_test_preprocessed.csv', sep=',', encoding='utf-8')\n",
        "test_data = pd.read_csv('/content/drive/MyDrive/CS548 Wireless Project/NF-BOT-IOT_train_preprocessed.csv', sep=',', encoding='utf-8')\n",
        "\n",
        "X_train = train_data.drop(columns=['label'], axis=1)\n",
        "y_train = train_data['label']\n",
        "X_test = test_data.drop(columns=['label'], axis=1)\n",
        "y_test = test_data['label']\n",
        "\n",
        "# Define custom K-nearest Neighbor (KNN) algorithm for feature selection\n",
        "class KNNFeatureSelection:\n",
        "    def __init__(self, k=5):\n",
        "        self.k = k\n",
        "\n",
        "    def fit(self, X, y):\n",
        "        start_time = time.time()  # Start timing the algorithm\n",
        "        num_features = X.shape[1]\n",
        "        best_feature_set = None\n",
        "        best_accuracy = 0.0\n",
        "\n",
        "        for feature_idx in range(num_features):\n",
        "            # Select one feature at a time\n",
        "            selected_features = [feature_idx]\n",
        "            clf = KNeighborsClassifier(n_neighbors=self.k)\n",
        "            X_subset = X.iloc[:, selected_features]\n",
        "            clf.fit(X_subset, y)\n",
        "            accuracy = accuracy_score(y, clf.predict(X_subset))\n",
        "\n",
        "            # Update best solution found\n",
        "            if accuracy > best_accuracy:\n",
        "                best_accuracy = accuracy\n",
        "                best_feature_set = selected_features\n",
        "\n",
        "        end_time = time.time()  # End timing the algorithm\n",
        "        self.exec_time = end_time - start_time  # Calculate execution time\n",
        "        self.selected_features = best_feature_set\n",
        "        return self\n",
        "\n",
        "# Instantiate and run the KNN algorithm for feature selection\n",
        "knn = KNNFeatureSelection(k=5)\n",
        "knn.fit(X_train, y_train)\n",
        "\n",
        "# Apply selected features to training data\n",
        "selected_feature_index = knn.selected_features[0]\n",
        "selected_feature = X_train.columns[selected_feature_index]\n",
        "num_selected_features = 1\n",
        "\n",
        "# Save selected features to a CSV file\n",
        "feature_name = filename + \"_KNN_features.csv\"\n",
        "optimizer_name = \"KNN\"\n",
        "execution_time = knn.exec_time\n",
        "\n",
        "# Write CSV file with optimizer name, execution time, number of selected features, and their names\n",
        "with open(feature_name, 'w') as file:\n",
        "    file.write(f\"optimizer,execution time,num of selected features,selected features\\n\")\n",
        "    file.write(f\"{optimizer_name},{execution_time},{num_selected_features},\\\"{selected_feature}\\\"\\n\")\n",
        "\n",
        "# Print number of selected features and their names\n",
        "print(\"Number of selected features:\", num_selected_features)\n",
        "print(\"Selected feature:\", selected_feature)\n",
        "\n",
        "# Filter both training and testing data with selected features\n",
        "X_train_selected = X_train[selected_feature]\n",
        "X_test_selected = X_test[selected_feature]\n"
      ]
    }
  ]
}